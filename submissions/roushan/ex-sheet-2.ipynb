{
  "cells": [
    {
      "metadata": {
        "deletable": false,
        "editable": false,
        "run_control": {
          "frozen": true
        }
      },
      "cell_type": "markdown",
      "source": "# [acharya.ai](https://acharya.ai)"
    },
    {
      "metadata": {
        "deletable": false,
        "editable": false,
        "run_control": {
          "frozen": true
        }
      },
      "cell_type": "markdown",
      "source": "<div style=\"text-align: center; font-size: 1.5em;\">\nॐ असतो मा सद्गमय <br><br>\nतमसो मा ज्योतिर्गमय <br><br>\nमृत्योर्माऽमृतं गमय <br><br>\nॐ शान्ति: शान्ति: शान्ति: ॥<br><br>\n— बृहदारण्यकोपनिषद् 1.3.28 <br><br>\n</div>\n__अर्थ__:— मुझे असत्य से सत्य की ओर ले चलो। मुझे अन्धकार से प्रकाश की ओर ले चलो। मुझे मृत्यु से अमरता की ओर ले चलो॥ <br><br>\n__Meaning__:— Om, Lead Us From Untruth To Truth, Lead Us From Darkness To Light. Lead Us From Death To Immortality, Om Let There Be Peace Peace Peace."
    },
    {
      "metadata": {
        "deletable": false,
        "editable": false,
        "run_control": {
          "frozen": true
        }
      },
      "cell_type": "markdown",
      "source": "## Exercises"
    },
    {
      "metadata": {
        "collapsed": true,
        "deletable": false,
        "editable": false,
        "run_control": {
          "frozen": true
        }
      },
      "cell_type": "markdown",
      "source": "__Exercise 2.1__ Consider that `s` is a `str` type variable that contains a string of length `r`. You want to extract a substring from the string `s`. If the position of the substring in `s` starts from the index location `m` and ends at the index location `n-1`, find the length of the substring."
    },
    {
      "metadata": {
        "trusted": true
      },
      "cell_type": "code",
      "source": "a_string = \"AI 101, Scientific Python Programming\"\n \nprint(\"Original String:\", a_string)\n\nsubstr = a_string[0:17]\n \nprint(\"Substring:\", substr)\nprint(len(substr))",
      "execution_count": 8,
      "outputs": [
        {
          "output_type": "stream",
          "text": "Original String: AI 101, Scientific Python Programming\nSubstring: AI 101, Scientifi\n17\n",
          "name": "stdout"
        }
      ]
    },
    {
      "metadata": {
        "deletable": false,
        "editable": false,
        "run_control": {
          "frozen": true
        }
      },
      "cell_type": "markdown",
      "source": "__Exercise 2.2__ A `str` type variable `s` contains a string of arbitrary length. Give the expression to return `r` characters starting at index `m`."
    },
    {
      "metadata": {
        "trusted": true
      },
      "cell_type": "code",
      "source": "a_string = \"Get Python String Substring\"\n \nprint(\"Original String:\", a_string)\n\nsubstr = a_string[4:17]\n \nprint(\"Substring:\", substr)",
      "execution_count": 6,
      "outputs": [
        {
          "output_type": "stream",
          "text": "Original String: Get Python String Substring\nSubstring: Python String\n",
          "name": "stdout"
        }
      ]
    },
    {
      "metadata": {
        "deletable": false,
        "editable": false,
        "run_control": {
          "frozen": true
        },
        "slideshow": {
          "slide_type": "slide"
        }
      },
      "cell_type": "markdown",
      "source": "__Exercise 2.3__ For a string `s = \"AI 101, Scientific Python Programming\"`. Perform the following operations in the given order:\n\n__1.__ Split the string `s` using built-in string method `split([sep])`. In `split([sep])` method, the optional `sep` is the character or a substring where a given string should be separated. If no `sep` is provided, the default is `\" \"` (space character). In a given string where `sep` is appearing `n` times, the returned list will contain $n+1$ items. E.g., `\"Hello World!\".split()` will return a list with two items, `[\"Hello\", \"World!\"]` because the default `\" \"` appeared one time. <br>\n\nUse the multiple assignemts in a single line and assign the returned list items in the variable `code` and `course_name` respectively.<br> HINT: Use `\", \"` as `sep`. <br><br>\n__2.__ Using built-in string method `split([sep])`, split the string represented by variable `code` and save the returned items in new variables `code_name` and `code_num`. Then, using built-in string method `isdigit()`, check if the characters in `code_num` are all digits. <br><br>\n__3.__ Join the string variables `code_name`, `code_num` and `course_name` using built-in string method `join([list])`. In `join([list])` method, `list` is optional and contains strings that you want to join. Save the result in a new variable `course`. Ensure that the new variable `course` and the original string variable `s` have the same string. <br>HINT: You may recreate the intermediate variable `code` by joining `code_name` and `code_num`. Then in the second line you may create variable `course` by joining `code` and `course_name` using. Then compare if `course` and `s` are equal."
    },
    {
      "metadata": {
        "trusted": true
      },
      "cell_type": "code",
      "source": "# \n# Variable declaration  \nstr = \"AI 101, Scientific Python Programming\"  \n# Calling function  \nstr2 = str.split()  \n# Displaying result  \nprint(str)  \nprint(str2)  ",
      "execution_count": 11,
      "outputs": [
        {
          "output_type": "stream",
          "text": "AI 101, Scientific Python Programming\n['AI', '101,', 'Scientific', 'Python', 'Programming']\n",
          "name": "stdout"
        }
      ]
    },
    {
      "metadata": {
        "deletable": false,
        "editable": false,
        "run_control": {
          "frozen": true
        }
      },
      "cell_type": "markdown",
      "source": "__Exercise 2.4__ `any()` and `all()` are built-in function. `any()` tests whether any of the items in an iterable object equivalent to `True`. Similarly, `all()` tests if all the items in `t` are equivalent to `True`. Given a tuple `t = (5, 1, 0, 3, ())`, test if any of the items in it are equivalent to `True`. Also test if all items in it are equivalent to `True`."
    },
    {
      "metadata": {
        "trusted": true
      },
      "cell_type": "code",
      "source": "t = (5, 1, 0, 3, ())\nprint (any(t))",
      "execution_count": 13,
      "outputs": [
        {
          "output_type": "stream",
          "text": "True\n",
          "name": "stdout"
        }
      ]
    },
    {
      "metadata": {
        "trusted": true
      },
      "cell_type": "code",
      "source": "t = (5, 1, 0, 3, ())\nprint (all(t))",
      "execution_count": 14,
      "outputs": [
        {
          "output_type": "stream",
          "text": "False\n",
          "name": "stdout"
        }
      ]
    },
    {
      "metadata": {
        "deletable": false,
        "editable": false,
        "run_control": {
          "frozen": true
        }
      },
      "cell_type": "markdown",
      "source": "__Exercise 2.5__ Given a tuple with four items `(\"Hyderabad\", 650, 211, 6809970)`, using tuple packing create a tuple variable `city_record`. Now, how can you unpack (popularly referred as tuple unpacking) the tuple `city_record` in three variables `city`, `area`, `year_population`? Find the type of the variable `year_population`."
    },
    {
      "metadata": {
        "deletable": false,
        "editable": false,
        "run_control": {
          "frozen": true
        }
      },
      "cell_type": "markdown",
      "source": "__Exercise 2.6__ Run the code and give your reasoning, why the memory address of `x` in line 2 and line 4 are different but in line 6 and line 8 are same?\n```python\nx = (2, 4, 8) # line 1\nprint(id(x))  # line 2\nx *= 2        # line 3\nprint(id(x))  # line 4\n\nx = [2, 4, 8] # line 5\nprint(id(x))  # line 6\nx *= 2        # line 7\nprint(id(x))  # line 8\n```"
    },
    {
      "metadata": {
        "trusted": true
      },
      "cell_type": "code",
      "source": "x = (2, 4, 8) # line 1\nprint(id(x))  # line 2\nx *= 2        # line 3\nprint(id(x))  # line 4\n\nx = [2, 4, 8] # line 5\nprint(id(x))  # line 6\nx *= 2        # line 7\nprint(id(x))  # line 8\n",
      "execution_count": 12,
      "outputs": [
        {
          "output_type": "stream",
          "text": "139925970123728\n139925970040968\n139925972985032\n139925972985032\n",
          "name": "stdout"
        }
      ]
    },
    {
      "metadata": {
        "trusted": true
      },
      "cell_type": "code",
      "source": "",
      "execution_count": null,
      "outputs": []
    }
  ],
  "metadata": {
    "kernelspec": {
      "name": "python36",
      "display_name": "Python 3.6",
      "language": "python"
    },
    "language_info": {
      "mimetype": "text/x-python",
      "nbconvert_exporter": "python",
      "name": "python",
      "pygments_lexer": "ipython3",
      "version": "3.6.6",
      "file_extension": ".py",
      "codemirror_mode": {
        "version": 3,
        "name": "ipython"
      }
    }
  },
  "nbformat": 4,
  "nbformat_minor": 2
}